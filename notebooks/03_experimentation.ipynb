{
 "cells": [
  {
   "cell_type": "code",
   "execution_count": 30,
   "id": "9fcd29ac",
   "metadata": {},
   "outputs": [],
   "source": [
    "import pandas as pd\n",
    "import numpy as np\n",
    "import joblib\n",
    "import mlflow\n",
    "import mlflow.sklearn\n",
    "from sklearn.model_selection import train_test_split, GridSearchCV\n",
    "from sklearn.ensemble import RandomForestRegressor, GradientBoostingRegressor, HistGradientBoostingRegressor\n",
    "\n",
    "from sklearn.linear_model import LinearRegression\n",
    "from sklearn.metrics import mean_absolute_error, mean_squared_error, r2_score\n",
    "import yaml\n",
    "import os\n",
    "import logging\n",
    "from contextlib import nullcontext\n",
    "import matplotlib.pyplot as plt\n",
    "\n",
    "logging.basicConfig(level=logging.INFO)\n",
    "logger = logging.getLogger()\n",
    "\n",
    "mlflow_tracking_uri = 'http://localhost:5555'  # Optional: e.g., 'http://localhost:5555'"
   ]
  },
  {
   "cell_type": "code",
   "execution_count": 31,
   "id": "249b3408",
   "metadata": {},
   "outputs": [],
   "source": [
    "# Load dataset\n",
    "# Ejecutar el siguiente comando para generar el archivo: featured_house_data.csv\n",
    "# python src/features/engineer.py   --input data/processed/cleaned_house_data.csv   --output data/processed/featured_house_data.csv   --preprocessor models/trained/preprocessor.pkl\n",
    "data_path = '../data/processed/featured_house_data.csv'  # Update path if needed\n",
    "data = pd.read_csv(data_path)\n",
    "X = data.drop('price', axis=1)\n",
    "y = data['price']\n",
    "X_train, X_test, y_train, y_test = train_test_split(X, y, test_size=0.2, random_state=42)"
   ]
  },
  {
   "cell_type": "code",
   "execution_count": 32,
   "id": "8bfa7aa8",
   "metadata": {},
   "outputs": [
    {
     "name": "stdout",
     "output_type": "stream",
     "text": [
      "✅ Top 10 Selected Features by RFE (using RandomForest):\n",
      " - 0\n",
      " - 1\n",
      " - 2\n",
      " - 3\n",
      " - 4\n",
      " - 5\n",
      " - 6\n",
      " - 9\n",
      " - 11\n",
      " - 14\n",
      "\n",
      "❌ Features Ignored by RFE:\n",
      " - 7\n",
      " - 8\n",
      " - 10\n",
      " - 12\n",
      " - 13\n",
      " - 15\n",
      "\n",
      "📊 Feature Selection Summary:\n",
      "   Original features: 16\n",
      "   Selected features: 10\n",
      "   Reduction: 6 features removed\n",
      "\n",
      "✅ Datasets filtered to use only selected features\n",
      "   X_train shape: (61, 10)\n",
      "   X_test shape: (16, 10)\n"
     ]
    }
   ],
   "source": [
    "from sklearn.feature_selection import RFE\n",
    "from sklearn.ensemble import RandomForestRegressor\n",
    "\n",
    "# Use RandomForest for RFE (más estable y sin dependencias externas)\n",
    "rf_model = RandomForestRegressor(n_estimators=100, random_state=42)\n",
    "rf_model.fit(X_train, y_train)\n",
    "\n",
    "# RFE with RandomForest\n",
    "rfe_selector = RFE(estimator=rf_model, n_features_to_select=10)\n",
    "rfe_selector.fit(X_train, y_train)\n",
    "rfe_selected_features = X.columns[rfe_selector.support_]\n",
    "rfe_ignored_features = X.columns[~rfe_selector.support_]\n",
    "\n",
    "print(\"✅ Top 10 Selected Features by RFE (using RandomForest):\")\n",
    "for feature in rfe_selected_features:\n",
    "    print(f\" - {feature}\")\n",
    "\n",
    "print(\"\\n❌ Features Ignored by RFE:\")\n",
    "for feature in rfe_ignored_features:\n",
    "    print(f\" - {feature}\")\n",
    "\n",
    "# Store for config\n",
    "selected_features_dict = {\n",
    "    'rfe': list(rfe_selected_features),\n",
    "    'rfe_method': 'RandomForestRegressor',\n",
    "    'total_features': len(X.columns),\n",
    "    'selected_features_count': len(rfe_selected_features)\n",
    "}\n",
    "\n",
    "print(f\"\\n📊 Feature Selection Summary:\")\n",
    "print(f\"   Original features: {len(X.columns)}\")\n",
    "print(f\"   Selected features: {len(rfe_selected_features)}\")\n",
    "print(f\"   Reduction: {len(X.columns) - len(rfe_selected_features)} features removed\")\n",
    "\n",
    "# Filter datasets to use only selected features for experimentation\n",
    "X_train = X_train[rfe_selected_features]\n",
    "X_test = X_test[rfe_selected_features]\n",
    "\n",
    "print(f\"\\n✅ Datasets filtered to use only selected features\")\n",
    "print(f\"   X_train shape: {X_train.shape}\")\n",
    "print(f\"   X_test shape: {X_test.shape}\")"
   ]
  },
  {
   "cell_type": "code",
   "execution_count": 33,
   "id": "a758a978",
   "metadata": {},
   "outputs": [],
   "source": [
    "import mlflow\n"
   ]
  },
  {
   "cell_type": "code",
   "execution_count": 34,
   "id": "056abaee",
   "metadata": {},
   "outputs": [
    {
     "data": {
      "text/plain": [
       "<Experiment: artifact_location='file:///C:/Users/Usuario/mlops-lab/artifacts/1', creation_time=1754176826531, experiment_id='1', last_update_time=1754176826531, lifecycle_stage='active', name='House Price Prediction Experiment', tags={}>"
      ]
     },
     "execution_count": 34,
     "metadata": {},
     "output_type": "execute_result"
    }
   ],
   "source": [
    "mlflow_tracking_uri = \"http://127.0.0.1:5000\"\n",
    "\n",
    "# Optional MLflow setup\n",
    "if mlflow_tracking_uri:\n",
    "    mlflow.set_tracking_uri(mlflow_tracking_uri)\n",
    "\n",
    "mlflow.set_experiment(\"House Price Prediction Experiment\")\n",
    "\n"
   ]
  },
  {
   "cell_type": "code",
   "execution_count": 35,
   "id": "8348967d",
   "metadata": {},
   "outputs": [],
   "source": [
    "if mlflow_tracking_uri:\n",
    "    mlflow.set_tracking_uri(mlflow_tracking_uri)\n",
    "    mlflow.set_experiment(\"House Price Prediction Experiment\")"
   ]
  },
  {
   "cell_type": "code",
   "execution_count": 36,
   "id": "96df1663",
   "metadata": {},
   "outputs": [],
   "source": [
    "from sklearn.ensemble import RandomForestRegressor, GradientBoostingRegressor, HistGradientBoostingRegressor\n",
    "from sklearn.linear_model import LinearRegression\n",
    "# Define models and hyperparameter grids\n",
    "models = {\n",
    "    'LinearRegression': LinearRegression(),\n",
    "    'RandomForest': RandomForestRegressor(),\n",
    "    'GradientBoosting': GradientBoostingRegressor(),\n",
    "    'HistGradientBoosting': HistGradientBoostingRegressor()\n",
    "}\n",
    "\n",
    "model_grids = {\n",
    "    'LinearRegression': {},\n",
    "    'RandomForest': {\n",
    "        'n_estimators': [50, 100, 150, 200, 300],\n",
    "        'max_depth': [None, 5, 10, 15, 20, 25],\n",
    "        'min_samples_split': [2, 5, 10],\n",
    "        'min_samples_leaf': [1, 2, 4]\n",
    "    },\n",
    "    \n",
    "    'GradientBoosting': {\n",
    "        'n_estimators': [50, 100, 150, 200, 300],\n",
    "        'learning_rate': [0.01, 0.05, 0.1, 0.15, 0.2],\n",
    "        'max_depth': [3, 5, 7, 10],\n",
    "        'subsample': [0.8, 0.9, 1.0]\n",
    "    },\n",
    "    \n",
    "    'HistGradientBoosting': {\n",
    "        'max_iter': [50, 100, 150, 200, 300],\n",
    "        'learning_rate': [0.01, 0.05, 0.1, 0.15, 0.2],\n",
    "        'max_depth': [3, 5, 7, 10, None],\n",
    "        'l2_regularization': [0.0, 0.1, 0.5, 1.0]\n",
    "    }\n",
    "}\n"
   ]
  },
  {
   "cell_type": "code",
   "execution_count": 37,
   "id": "5544f57a",
   "metadata": {},
   "outputs": [
    {
     "name": "stdout",
     "output_type": "stream",
     "text": [
      "MLflow tracking URI: http://127.0.0.1:5000\n"
     ]
    }
   ],
   "source": [
    "def evaluate_model_with_gridsearch(name, model, grid, X_train, y_train, X_test, y_test):\n",
    "    if grid:\n",
    "        clf = GridSearchCV(model, grid, cv=3, scoring='r2', n_jobs=-1)\n",
    "        clf.fit(X_train, y_train)\n",
    "        best_model = clf.best_estimator_\n",
    "        best_params = clf.best_params_\n",
    "    else:\n",
    "        model.fit(X_train, y_train)\n",
    "        best_model = model\n",
    "        best_params = model.get_params()\n",
    "\n",
    "    y_pred = best_model.predict(X_test)\n",
    "    mae = mean_absolute_error(y_test, y_pred)\n",
    "    mse = mean_squared_error(y_test, y_pred)\n",
    "    rmse = np.sqrt(mse)\n",
    "    r2 = r2_score(y_test, y_pred)\n",
    "\n",
    "    return {\n",
    "        'mae': mae,\n",
    "        'mse': mse,\n",
    "        'rmse': rmse,\n",
    "        'r2': r2,\n",
    "        'model': best_model,\n",
    "        'params': best_params\n",
    "    }\n",
    "\n",
    "print(\"MLflow tracking URI:\", mlflow_tracking_uri)\n"
   ]
  },
  {
   "cell_type": "code",
   "execution_count": 38,
   "id": "13a76779",
   "metadata": {},
   "outputs": [],
   "source": [
    "import logging\n",
    "\n",
    "logging.basicConfig(level=logging.INFO)\n",
    "logger = logging.getLogger(__name__)\n"
   ]
  },
  {
   "cell_type": "code",
   "execution_count": 39,
   "id": "42572d25",
   "metadata": {},
   "outputs": [],
   "source": [
    "import pandas as pd\n",
    "from sklearn.model_selection import train_test_split\n",
    "\n",
    "# Cargar el dataset\n",
    "data = pd.read_csv('../data/processed/featured_house_data.csv')\n",
    "X = data.drop('price', axis=1)\n",
    "y = data['price']\n",
    "\n",
    "# Dividir en entrenamiento y prueba\n",
    "X_train, X_test, y_train, y_test = train_test_split(X, y, test_size=0.2, random_state=42)\n"
   ]
  },
  {
   "cell_type": "code",
   "execution_count": 40,
   "id": "427a5782",
   "metadata": {},
   "outputs": [
    {
     "name": "stdout",
     "output_type": "stream",
     "text": [
      "(61, 16) (61,)\n"
     ]
    }
   ],
   "source": [
    "print(X_train.shape, y_train.shape)\n"
   ]
  },
  {
   "cell_type": "code",
   "execution_count": 41,
   "id": "18ede2a9",
   "metadata": {},
   "outputs": [],
   "source": [
    "from sklearn.metrics import mean_absolute_error, mean_squared_error, r2_score\n"
   ]
  },
  {
   "cell_type": "code",
   "execution_count": 42,
   "id": "3b45abc4",
   "metadata": {},
   "outputs": [],
   "source": [
    "# ML imports\n",
    "import pandas as pd\n",
    "import numpy as np\n",
    "from sklearn.model_selection import train_test_split, GridSearchCV\n",
    "from sklearn.linear_model import LinearRegression\n",
    "from sklearn.ensemble import RandomForestRegressor, GradientBoostingRegressor, HistGradientBoostingRegressor\n",
    "from sklearn.metrics import mean_absolute_error, mean_squared_error, r2_score\n"
   ]
  },
  {
   "cell_type": "code",
   "execution_count": 43,
   "id": "ff2ddc60",
   "metadata": {},
   "outputs": [
    {
     "name": "stderr",
     "output_type": "stream",
     "text": [
      "INFO:__main__:Training LinearRegression...\n"
     ]
    },
    {
     "name": "stderr",
     "output_type": "stream",
     "text": [
      "2025/08/02 18:30:27 WARNING mlflow.models.model: Model logged without a signature and input example. Please set `input_example` parameter when logging the model to auto infer the model signature.\n",
      "INFO:__main__:Training RandomForest...\n"
     ]
    },
    {
     "name": "stdout",
     "output_type": "stream",
     "text": [
      "LinearRegression R2: 0.9901, RMSE: 21429.17\n",
      "🏃 View run LinearRegression at: http://127.0.0.1:5000/#/experiments/1/runs/0fff4385dd2242f2a390b83f534ef5ad\n",
      "🧪 View experiment at: http://127.0.0.1:5000/#/experiments/1\n"
     ]
    },
    {
     "name": "stderr",
     "output_type": "stream",
     "text": [
      "2025/08/02 18:30:43 WARNING mlflow.models.model: Model logged without a signature and input example. Please set `input_example` parameter when logging the model to auto infer the model signature.\n",
      "INFO:__main__:Training GradientBoosting...\n"
     ]
    },
    {
     "name": "stdout",
     "output_type": "stream",
     "text": [
      "RandomForest R2: 0.9923, RMSE: 18928.62\n",
      "🏃 View run RandomForest at: http://127.0.0.1:5000/#/experiments/1/runs/c3393ab07c6240598eaeae9f31d0bb39\n",
      "🧪 View experiment at: http://127.0.0.1:5000/#/experiments/1\n"
     ]
    },
    {
     "name": "stderr",
     "output_type": "stream",
     "text": [
      "2025/08/02 18:30:53 WARNING mlflow.models.model: Model logged without a signature and input example. Please set `input_example` parameter when logging the model to auto infer the model signature.\n",
      "INFO:__main__:Training HistGradientBoosting...\n"
     ]
    },
    {
     "name": "stdout",
     "output_type": "stream",
     "text": [
      "GradientBoosting R2: 0.9852, RMSE: 26259.63\n",
      "🏃 View run GradientBoosting at: http://127.0.0.1:5000/#/experiments/1/runs/336fd62b23ec4d26b8b537f3f01768d9\n",
      "🧪 View experiment at: http://127.0.0.1:5000/#/experiments/1\n"
     ]
    },
    {
     "name": "stderr",
     "output_type": "stream",
     "text": [
      "2025/08/02 18:31:03 WARNING mlflow.models.model: Model logged without a signature and input example. Please set `input_example` parameter when logging the model to auto infer the model signature.\n"
     ]
    },
    {
     "name": "stdout",
     "output_type": "stream",
     "text": [
      "HistGradientBoosting R2: 0.8235, RMSE: 90671.01\n",
      "🏃 View run HistGradientBoosting at: http://127.0.0.1:5000/#/experiments/1/runs/a5f62fd4ec9c4408b860313ff47fc26a\n",
      "🧪 View experiment at: http://127.0.0.1:5000/#/experiments/1\n",
      "🏃 View run model_comparison at: http://127.0.0.1:5000/#/experiments/1/runs/787b24338d244d81a5515b63e63f0747\n",
      "🧪 View experiment at: http://127.0.0.1:5000/#/experiments/1\n"
     ]
    }
   ],
   "source": [
    "results = {}\n",
    "\n",
    "with mlflow.start_run(run_name=\"model_comparison\") if mlflow_tracking_uri else nullcontext():\n",
    "    for name, model in models.items():\n",
    "        logger.info(f\"Training {name}...\")\n",
    "        with mlflow.start_run(run_name=name, nested=True) if mlflow_tracking_uri else nullcontext():\n",
    "            evaluation = evaluate_model_with_gridsearch(name, model, model_grids[name], X_train, y_train, X_test, y_test)\n",
    "            results[name] = evaluation\n",
    "\n",
    "            if mlflow_tracking_uri:\n",
    "                mlflow.log_params(evaluation['params'])\n",
    "                mlflow.log_metrics({\n",
    "                    'mae': evaluation['mae'],\n",
    "                    'mse': evaluation['mse'],\n",
    "                    'rmse': evaluation['rmse'],\n",
    "                    'r2': evaluation['r2']\n",
    "                })\n",
    "                mlflow.sklearn.log_model(evaluation['model'], artifact_path=name.lower().replace(\" \", \"_\"))\n",
    "            \n",
    "            print(f\"{name} R2: {evaluation['r2']:.4f}, RMSE: {evaluation['rmse']:.2f}\")\n"
   ]
  },
  {
   "cell_type": "code",
   "execution_count": 44,
   "id": "9d4dc8d0",
   "metadata": {},
   "outputs": [],
   "source": [
    "import matplotlib.pyplot as plt\n"
   ]
  },
  {
   "cell_type": "code",
   "execution_count": 45,
   "id": "24d6d8bf",
   "metadata": {},
   "outputs": [
    {
     "data": {
      "image/png": "[encoded data removed]",
      "text/plain": [
       "<Figure size 1000x600 with 1 Axes>"
      ]
     },
     "metadata": {},
     "output_type": "display_data"
    },
    {
     "data": {
      "image/png": "[encoded data removed]",
      "text/plain": [
       "<Figure size 1000x600 with 1 Axes>"
      ]
     },
     "metadata": {},
     "output_type": "display_data"
    },
    {
     "data": {
      "image/png": "[encoded data removed]",
      "text/plain": [
       "<Figure size 1000x600 with 1 Axes>"
      ]
     },
     "metadata": {},
     "output_type": "display_data"
    }
   ],
   "source": [
    "def plot_model_metrics(results, metric='r2'):\n",
    "    names = list(results.keys())\n",
    "    values = [results[name][metric] for name in names]\n",
    "\n",
    "    plt.figure(figsize=(10, 6))\n",
    "    plt.bar(names, values)\n",
    "    plt.title(f'Model Comparison by {metric.upper()}')\n",
    "    plt.xlabel('Model')\n",
    "    plt.ylabel(metric.upper())\n",
    "    plt.grid(True)\n",
    "    plt.show()\n",
    "\n",
    "# Example usage:\n",
    "plot_model_metrics(results, metric='r2')\n",
    "plot_model_metrics(results, metric='rmse')\n",
    "plot_model_metrics(results, metric='mae')\n",
    "\n"
   ]
  },
  {
   "cell_type": "code",
   "execution_count": 46,
   "id": "27ec409d",
   "metadata": {},
   "outputs": [
    {
     "name": "stdout",
     "output_type": "stream",
     "text": [
      "🏆 Best Model: RandomForest\n",
      "   R² Score: 0.9923\n",
      "   MAE: 12006.67\n",
      "   RMSE: 18928.62\n",
      "✅ Saved model config to ../configs/model_config.yaml\n"
     ]
    }
   ],
   "source": [
    "import os\n",
    "import yaml\n",
    "\n",
    "# Supongamos que estas son las características seleccionadas\n",
    "selected_features = ['sqft_living', 'bedrooms', 'bathrooms', 'grade', 'view']\n",
    "selected_features_dict = {'selected_features': selected_features}\n",
    "\n",
    "# Obtener el mejor modelo según R²\n",
    "best_model_name = max(results, key=lambda x: results[x]['r2'])\n",
    "best_model = results[best_model_name]['model']\n",
    "best_params = best_model.get_params()\n",
    "best_r2 = float(results[best_model_name]['r2'])\n",
    "best_mae = float(results[best_model_name]['mae'])\n",
    "best_rmse = float(results[best_model_name]['rmse'])\n",
    "\n",
    "# Mostrar resultados\n",
    "print(f\"🏆 Best Model: {best_model_name}\")\n",
    "print(f\"   R² Score: {best_r2:.4f}\")\n",
    "print(f\"   MAE: {best_mae:.2f}\")\n",
    "print(f\"   RMSE: {best_rmse:.2f}\")\n",
    "\n",
    "# Crear diccionario de configuración\n",
    "model_config = {\n",
    "    'model': {\n",
    "        'name': 'house_price_model',\n",
    "        'best_model': best_model_name,\n",
    "        'parameters': best_params,\n",
    "        'r2_score': best_r2,\n",
    "        'mae': best_mae,\n",
    "        'rmse': best_rmse,\n",
    "        'target_variable': 'price',\n",
    "        'feature_sets': selected_features_dict\n",
    "    }\n",
    "}\n",
    "\n",
    "# Guardar en archivo YAML\n",
    "config_path = '../configs/model_config.yaml'\n",
    "os.makedirs(os.path.dirname(config_path), exist_ok=True)\n",
    "with open(config_path, 'w') as f:\n",
    "    yaml.dump(model_config, f)\n",
    "\n",
    "print(f\"✅ Saved model config to {config_path}\")\n"
   ]
  }
 ],
 "metadata": {
  "kernelspec": {
   "display_name": "mlops-fisi",
   "language": "python",
   "name": "python3"
  },
  "language_info": {
   "codemirror_mode": {
    "name": "ipython",
    "version": 3
   },
   "file_extension": ".py",
   "mimetype": "text/x-python",
   "name": "python",
   "nbconvert_exporter": "python",
   "pygments_lexer": "ipython3",
   "version": "3.11.13"
  }
 },
 "nbformat": 4,
 "nbformat_minor": 5
}
